{
 "cells": [
  {
   "cell_type": "code",
   "execution_count": 0,
   "metadata": {
    "application/vnd.databricks.v1+cell": {
     "cellMetadata": {
      "byteLimit": 2048000,
      "rowLimit": 10000
     },
     "inputWidgets": {},
     "nuid": "5a118a36-b139-44cd-8d18-35e2d37e456f",
     "showTitle": false,
     "tableResultSettingsMap": {},
     "title": ""
    }
   },
   "outputs": [],
   "source": [
    "from pyspark.sql.functions import col, to_timestamp, date_format, current_timestamp, to_date, col, split\n",
    "from pyspark.sql.types import DecimalType\n"
   ]
  },
  {
   "cell_type": "code",
   "execution_count": 0,
   "metadata": {
    "application/vnd.databricks.v1+cell": {
     "cellMetadata": {
      "byteLimit": 2048000,
      "rowLimit": 10000
     },
     "inputWidgets": {},
     "nuid": "df517dbe-91cd-473b-a7c5-350e89fdb565",
     "showTitle": false,
     "tableResultSettingsMap": {},
     "title": ""
    }
   },
   "outputs": [],
   "source": [
    "\n",
    "#Put your access key, secret_key and resion below\n",
    "access_key = ' ' # Access key\n",
    "secret_key = ' ' # Secret key\n",
    "aws_region = ' ' # Region\n",
    "\n",
    "spark._jsc.hadoopConfiguration().set(\"fs.s3a.access.key\", access_key)\n",
    "spark._jsc.hadoopConfiguration().set(\"fs.s3a.secret.key\", secret_key)\n",
    "spark._jsc.hadoopConfiguration().set(\"fs.s3a.endpoint\", f\"s3.{aws_region}.amazonaws.com\")"
   ]
  },
  {
   "cell_type": "code",
   "execution_count": 0,
   "metadata": {
    "application/vnd.databricks.v1+cell": {
     "cellMetadata": {
      "byteLimit": 2048000,
      "rowLimit": 10000
     },
     "inputWidgets": {},
     "nuid": "a07dab11-cced-4d78-80b2-fbbf8ad559cc",
     "showTitle": false,
     "tableResultSettingsMap": {},
     "title": ""
    }
   },
   "outputs": [],
   "source": [
    "\n",
    "raw_data_path = \"s3://crickdatabucket/raw_data/to_processed/\"\n",
    "raw_df = spark.read.json(raw_data_path)"
   ]
  },
  {
   "cell_type": "code",
   "execution_count": 0,
   "metadata": {
    "application/vnd.databricks.v1+cell": {
     "cellMetadata": {
      "byteLimit": 2048000,
      "rowLimit": 10000
     },
     "inputWidgets": {},
     "nuid": "b94bf889-f4dc-4204-86b0-40276311efa7",
     "showTitle": false,
     "tableResultSettingsMap": {},
     "title": ""
    }
   },
   "outputs": [],
   "source": [
    "\n",
    "def summary():\n",
    "    summary_df = raw_df.select(\n",
    "        date_format(current_timestamp(), 'yyyy-MM-dd HH:mm:ss').alias(\"Timestamp\"),\n",
    "        col(\"match_details.series\").alias(\"Series\"),\n",
    "        col(\"match_details.series_id\").alias(\"Series_Id\"),\n",
    "        col(\"match_details.series_type\").alias(\"Series_Type\"),\n",
    "        col(\"match_details.venue\").alias(\"Venue\"),\n",
    "        col(\"match_details.venue_id\").alias(\"Venue_Id\"),\n",
    "        col(\"match_details.matchs\").alias(\"Match\"),\n",
    "        col(\"match_details.match_id\").alias(\"Match_Id\"),\n",
    "        to_timestamp(col(\"match_details.date_time\"), 'yyyy-MM-dd HH:mm:ss').alias(\"Match_Timestamp\"),\n",
    "        to_date(col(\"Match_Timestamp\")).alias(\"Match_Date\"),\n",
    "        col(\"match_details.match_time\").alias(\"Match_Time\"),\n",
    "        col(\"match_details.match_type\").alias(\"Match_Type\"),\n",
    "        col(\"match_details.toss\").alias(\"Toss\"),\n",
    "        col(\"match_details.balling_team\").cast(\"long\").alias(\"Balling_Team_Id\"),\n",
    "        col(\"match_details.batting_team\").cast(\"long\").alias(\"Batting_Team_Id\"),\n",
    "    )\n",
    "    return summary_df"
   ]
  },
  {
   "cell_type": "code",
   "execution_count": 0,
   "metadata": {
    "application/vnd.databricks.v1+cell": {
     "cellMetadata": {
      "byteLimit": 2048000,
      "rowLimit": 10000
     },
     "inputWidgets": {},
     "nuid": "6262cec1-bbbf-4597-ba40-959918a94755",
     "showTitle": false,
     "tableResultSettingsMap": {},
     "title": ""
    }
   },
   "outputs": [],
   "source": [
    "\n",
    "def team_a():\n",
    "  team_a_df = raw_df.select(\n",
    "    date_format(current_timestamp(), 'yyyy-MM-dd HH:mm:ss').alias(\"Timestamp\"),\n",
    "    col(\"match_details.team_a_id\").alias(\"Team_A_Id\"),\n",
    "    col(\"match_details.team_a_img\").alias(\"Team_A_Image\"),\n",
    "    col(\"match_details.team_a\").alias(\"Team_A_Name\"),\n",
    "    col(\"match_details.team_a_short\").alias(\"Team_A_Shortform\"),\n",
    "    col(\"match_details.team_a_scores\").alias(\"Team_A_Scoreboard\"),\n",
    "    col(\"match_details.team_a_over\").cast(DecimalType(10, 1)).alias(\"Team_A_Over\"),\n",
    "    split(col(\"Team_A_Scoreboard\"), \"-\").getItem(0).cast(\"long\").alias(\"Team_A_Score\"),\n",
    "    split(col(\"Team_A_Scoreboard\"), \"-\").getItem(1).cast(\"long\").alias(\"Team_A_Wicket\")\n",
    "  )\n",
    "  return team_a_df"
   ]
  },
  {
   "cell_type": "code",
   "execution_count": 0,
   "metadata": {
    "application/vnd.databricks.v1+cell": {
     "cellMetadata": {
      "byteLimit": 2048000,
      "rowLimit": 10000
     },
     "inputWidgets": {},
     "nuid": "0702faf0-f42b-423c-b03e-278a5cd2a373",
     "showTitle": false,
     "tableResultSettingsMap": {},
     "title": ""
    }
   },
   "outputs": [],
   "source": [
    "\n",
    "def team_b():\n",
    "  team_b_df = raw_df.select(\n",
    "    date_format(current_timestamp(), 'yyyy-MM-dd HH:mm:ss').alias(\"Timestamp\"),\n",
    "    col(\"match_details.team_b_id\").alias(\"Team_B_Id\"),\n",
    "    col(\"match_details.team_b_img\").alias(\"Team_B_Image\"),\n",
    "    col(\"match_details.team_b\").alias(\"Team_B_Name\"),\n",
    "    col(\"match_details.team_b_short\").alias(\"Team_B_Shortform\"),\n",
    "    col(\"match_details.team_b_scores\").alias(\"Team_B_Scoreboard\"),\n",
    "    col(\"match_details.team_b_over\").cast(DecimalType(10, 1)).alias(\"Team_B_Over\"),\n",
    "    split(col(\"Team_B_Scoreboard\"), \"-\").getItem(0).cast(\"long\").alias(\"Team_B_Score\"),\n",
    "    split(col(\"Team_B_Scoreboard\"), \"-\").getItem(1).cast(\"long\").alias(\"Team_B_Wicket\")\n",
    "  )\n",
    "  return team_b_df"
   ]
  },
  {
   "cell_type": "code",
   "execution_count": 0,
   "metadata": {
    "application/vnd.databricks.v1+cell": {
     "cellMetadata": {
      "byteLimit": 2048000,
      "rowLimit": 10000
     },
     "inputWidgets": {},
     "nuid": "d05f02c1-ad0a-4c91-ad5a-01c0ed2d9cef",
     "showTitle": false,
     "tableResultSettingsMap": {},
     "title": ""
    }
   },
   "outputs": [],
   "source": [
    "\n",
    "def status():\n",
    "    status_df = raw_df.select(\n",
    "        date_format(current_timestamp(), 'yyyy-MM-dd HH:mm:ss').alias(\"Timestamp\"),\n",
    "        col(\"match_details.match_status\").alias(\"Match_Status\"),\n",
    "        col(\"match_details.team_a_id\").alias(\"Team_A_Id\"),\n",
    "        col(\"match_details.team_a\").alias(\"Team_A_Name\"),\n",
    "        col(\"match_details.team_a_over\").cast(DecimalType(10, 1)).alias(\"Team_a_Over\"),\n",
    "        col(\"match_details.team_b_id\").alias(\"Team_B_Id\"),\n",
    "        col(\"match_details.team_b\").alias(\"Team_B_Name\"),\n",
    "        col(\"match_details.team_b_over\").cast(DecimalType(10, 1)).alias(\"Team_B_Over\"),\n",
    "        col(\"match_details.trail_lead\").alias(\"Trail_Lead\"),\n",
    "        col(\"match_details.session\").alias(\"Session\"),\n",
    "        col(\"match_details.need_run_ball\").alias(\"Needed\"),\n",
    "        col(\"match_details.result\").alias(\"Result\")   \n",
    "    )\n",
    "    return status_df"
   ]
  },
  {
   "cell_type": "code",
   "execution_count": 0,
   "metadata": {
    "application/vnd.databricks.v1+cell": {
     "cellMetadata": {
      "byteLimit": 2048000,
      "rowLimit": 10000
     },
     "inputWidgets": {},
     "nuid": "7c359733-c4e2-4bf8-b649-28253b40db69",
     "showTitle": false,
     "tableResultSettingsMap": {},
     "title": ""
    }
   },
   "outputs": [],
   "source": [
    "\n",
    "def commentry():\n",
    "    commentry_df = raw_df.select(\n",
    "        date_format(current_timestamp(), 'yyyy-MM-dd HH:mm:ss').alias(\"Timestamp\"),\n",
    "        col(\"match_details.team_a_over\").cast(DecimalType(10, 1)).alias(\"Team_a_Over\"),\n",
    "        col(\"match_details.team_b_over\").cast(DecimalType(10, 1)).alias(\"Team_b_Over\"),\n",
    "        col(\"player_details.commentary\").alias(\"Commentry\")\n",
    "    )\n",
    "    return commentry_df"
   ]
  },
  {
   "cell_type": "code",
   "execution_count": 0,
   "metadata": {
    "application/vnd.databricks.v1+cell": {
     "cellMetadata": {
      "byteLimit": 2048000,
      "rowLimit": 10000
     },
     "inputWidgets": {},
     "nuid": "efec4b54-d87a-4148-a77d-f03be8d79eb8",
     "showTitle": false,
     "tableResultSettingsMap": {},
     "title": ""
    }
   },
   "outputs": [],
   "source": [
    "\n",
    "def batsmen():\n",
    "    batsmen_df = raw_df.select(\n",
    "        date_format(current_timestamp(), 'yyyy-MM-dd HH:mm:ss').alias(\"Timestamp\"),\n",
    "        col(\"match_details.team_a_over\").cast(DecimalType(10, 1)).alias(\"Team_A_Over\"),\n",
    "        col(\"match_details.team_b_over\").cast(DecimalType(10, 1)).alias(\"Team_B_Over\"),\n",
    "        col(\"player_details.0\").alias(\"Batsmen_Name\"),\n",
    "        col(\"player_details.1\").cast(\"long\").alias(\"Runs\"),\n",
    "        col(\"player_details.2\").cast(\"long\").alias(\"Balls\"),\n",
    "        col(\"player_details.3\").cast(\"long\").alias(\"Four\"),\n",
    "        col(\"player_details.4\").cast(\"long\").alias(\"Six\"),\n",
    "        col(\"player_details.5\").cast(DecimalType(10, 2)).alias(\"Strike_Rate\")\n",
    "    )\n",
    "    return batsmen_df"
   ]
  },
  {
   "cell_type": "code",
   "execution_count": 0,
   "metadata": {
    "application/vnd.databricks.v1+cell": {
     "cellMetadata": {
      "byteLimit": 2048000,
      "rowLimit": 10000
     },
     "inputWidgets": {},
     "nuid": "08920410-0c62-4df2-9d2c-175360b0af30",
     "showTitle": false,
     "tableResultSettingsMap": {},
     "title": ""
    }
   },
   "outputs": [],
   "source": [
    "\n",
    "def bowler():\n",
    "    bowler_df = raw_df.select(\n",
    "        date_format(current_timestamp(), 'yyyy-MM-dd HH:mm:ss').alias(\"Timestamp\"),\n",
    "        col(\"match_details.team_a_over\").cast(DecimalType(10, 1)).alias(\"Team_A_Over\"),\n",
    "        col(\"match_details.team_b_over\").cast(DecimalType(10, 1)).alias(\"Team_B_Over\"),\n",
    "        col(\"player_details.16\").alias(\"Bowler_Name\"),\n",
    "        col(\"player_details.17\").cast(DecimalType(10, 1)).alias(\"Bowler_Overs\"),\n",
    "        col(\"player_details.18\").cast(\"long\").alias(\"Maiden\"),\n",
    "        col(\"player_details.19\").cast(\"long\").alias(\"Bowler_Runs\"),\n",
    "        col(\"player_details.20\").cast(\"long\").alias(\"Wickets\"),\n",
    "        col(\"player_details.21\").cast(DecimalType(10, 2)).alias(\"Economy\")\n",
    "    )\n",
    "    return bowler_df"
   ]
  },
  {
   "cell_type": "code",
   "execution_count": 0,
   "metadata": {
    "application/vnd.databricks.v1+cell": {
     "cellMetadata": {
      "byteLimit": 2048000,
      "rowLimit": 10000
     },
     "inputWidgets": {},
     "nuid": "11202d21-6767-4055-8924-6162565ff92c",
     "showTitle": false,
     "tableResultSettingsMap": {},
     "title": ""
    }
   },
   "outputs": [],
   "source": [
    "\n",
    "Summary_data_transformed = summary()\n",
    "Team_A_data_transformed = team_a()\n",
    "Team_B_data_transformed = team_b()\n",
    "Status_data_transformed = status()\n",
    "Commentry_data_transformed = commentry()\n",
    "Batsmen_data_transformed = batsmen()\n",
    "Bowler_data_transformed = bowler()"
   ]
  },
  {
   "cell_type": "code",
   "execution_count": 0,
   "metadata": {
    "application/vnd.databricks.v1+cell": {
     "cellMetadata": {
      "byteLimit": 2048000,
      "rowLimit": 10000
     },
     "inputWidgets": {},
     "nuid": "b460ed06-fdcc-42b1-bcf2-546de59c9ea7",
     "showTitle": false,
     "tableResultSettingsMap": {},
     "title": ""
    }
   },
   "outputs": [],
   "source": [
    "\n",
    "from datetime import datetime\n",
    "\n",
    "def write_to_s3(df, path_suffix, format_type=\"csv\"):\n",
    "    timestamp_str = datetime.now().strftime(\"%Y-%m-%d\")\n",
    "    path = f\"s3://crickdatabucket/transformed_data/{path_suffix}_{timestamp_str}/\"\n",
    "\n",
    "    df.write \\\n",
    "        .format(format_type) \\\n",
    "        .option(\"header\", \"true\") \\\n",
    "        .mode(\"append\") \\\n",
    "        .save(path)\n"
   ]
  },
  {
   "cell_type": "code",
   "execution_count": 0,
   "metadata": {
    "application/vnd.databricks.v1+cell": {
     "cellMetadata": {
      "byteLimit": 2048000,
      "rowLimit": 10000
     },
     "inputWidgets": {},
     "nuid": "6204f33f-2aca-45e8-8ccd-62fefc9b9565",
     "showTitle": false,
     "tableResultSettingsMap": {},
     "title": ""
    }
   },
   "outputs": [
    {
     "name": "stdout",
     "output_type": "stream",
     "text": [
      "root\n",
      " |-- Timestamp: string (nullable = false)\n",
      " |-- Match_Status: string (nullable = true)\n",
      " |-- Team_A_Id: long (nullable = true)\n",
      " |-- Team_A_Name: string (nullable = true)\n",
      " |-- Team_a_Over: decimal(10,1) (nullable = true)\n",
      " |-- Team_B_Id: long (nullable = true)\n",
      " |-- Team_B_Name: string (nullable = true)\n",
      " |-- Team_B_Over: decimal(10,1) (nullable = true)\n",
      " |-- Trail_Lead: string (nullable = true)\n",
      " |-- Session: string (nullable = true)\n",
      " |-- Needed: string (nullable = true)\n",
      " |-- Result: string (nullable = true)\n",
      "\n"
     ]
    }
   ],
   "source": [
    "Status_data_transformed.printSchema()\n"
   ]
  },
  {
   "cell_type": "code",
   "execution_count": 0,
   "metadata": {
    "application/vnd.databricks.v1+cell": {
     "cellMetadata": {
      "byteLimit": 2048000,
      "rowLimit": 10000
     },
     "inputWidgets": {},
     "nuid": "254f3002-e886-40c9-9f2f-a80e9f337393",
     "showTitle": false,
     "tableResultSettingsMap": {},
     "title": ""
    }
   },
   "outputs": [],
   "source": [
    "Status_data_transformed = Status_data_transformed.withColumnRenamed(\"match_status_new\", \"Match_Status\")\n",
    "\n"
   ]
  },
  {
   "cell_type": "code",
   "execution_count": 0,
   "metadata": {
    "application/vnd.databricks.v1+cell": {
     "cellMetadata": {
      "byteLimit": 2048000,
      "rowLimit": 10000
     },
     "inputWidgets": {},
     "nuid": "23d32dc7-9072-496f-b31e-706ce5c5bf1f",
     "showTitle": false,
     "tableResultSettingsMap": {},
     "title": ""
    }
   },
   "outputs": [],
   "source": [
    "write_to_s3(Summary_data_transformed, \"summary_data/summary_transformed\", format_type=\"csv\")\n",
    "write_to_s3(Commentry_data_transformed, \"commentry_data/commentry_transformed\", format_type=\"csv\")\n",
    "write_to_s3(Team_A_data_transformed, \"team_a_data/team_a_transformed\", format_type=\"csv\")\n",
    "write_to_s3(Team_B_data_transformed, \"team_b_data/team_b_transformed\", format_type=\"csv\")\n",
    "write_to_s3(Status_data_transformed, \"status_data/status_transformed\", format_type=\"csv\")\n",
    "write_to_s3(Batsmen_data_transformed, \"batsmen_data/batsmen_transformed\", format_type=\"csv\")\n",
    "write_to_s3(Bowler_data_transformed, \"bowler_data/bowler_transformed\", format_type=\"csv\")"
   ]
  },
  {
   "cell_type": "code",
   "execution_count": 0,
   "metadata": {
    "application/vnd.databricks.v1+cell": {
     "cellMetadata": {
      "byteLimit": 2048000,
      "rowLimit": 10000
     },
     "inputWidgets": {},
     "nuid": "5493442d-a90b-4fca-ba14-1878c04de3f5",
     "showTitle": false,
     "tableResultSettingsMap": {},
     "title": ""
    }
   },
   "outputs": [
    {
     "name": "stdout",
     "output_type": "stream",
     "text": [
      "Successfully copied: raw_data/to_processed/cricket_data_raw_2025-02-26_10-32-59.json to raw_data/processed/cricket_data_raw_2025-02-26_10-32-59.json\n",
      "Successfully deleted: raw_data/to_processed/cricket_data_raw_2025-02-26_10-32-59.json\n",
      "Successfully copied: raw_data/to_processed/cricket_data_raw_2025-02-26_10-34-46.json to raw_data/processed/cricket_data_raw_2025-02-26_10-34-46.json\n",
      "Successfully deleted: raw_data/to_processed/cricket_data_raw_2025-02-26_10-34-46.json\n",
      "Successfully copied: raw_data/to_processed/cricket_data_raw_2025-02-26_10-34-53.json to raw_data/processed/cricket_data_raw_2025-02-26_10-34-53.json\n",
      "Successfully deleted: raw_data/to_processed/cricket_data_raw_2025-02-26_10-34-53.json\n",
      "Successfully copied: raw_data/to_processed/cricket_data_raw_2025-02-26_10-36-36.json to raw_data/processed/cricket_data_raw_2025-02-26_10-36-36.json\n",
      "Successfully deleted: raw_data/to_processed/cricket_data_raw_2025-02-26_10-36-36.json\n",
      "Successfully copied: raw_data/to_processed/cricket_data_raw_2025-02-26_10-37-30.json to raw_data/processed/cricket_data_raw_2025-02-26_10-37-30.json\n",
      "Successfully deleted: raw_data/to_processed/cricket_data_raw_2025-02-26_10-37-30.json\n",
      "Successfully copied: raw_data/to_processed/cricket_data_raw_2025-02-26_10-38-28.json to raw_data/processed/cricket_data_raw_2025-02-26_10-38-28.json\n",
      "Successfully deleted: raw_data/to_processed/cricket_data_raw_2025-02-26_10-38-28.json\n",
      "Successfully copied: raw_data/to_processed/cricket_data_raw_2025-02-26_10-39-22.json to raw_data/processed/cricket_data_raw_2025-02-26_10-39-22.json\n",
      "Successfully deleted: raw_data/to_processed/cricket_data_raw_2025-02-26_10-39-22.json\n",
      "Successfully copied: raw_data/to_processed/cricket_data_raw_2025-02-26_10-40-17.json to raw_data/processed/cricket_data_raw_2025-02-26_10-40-17.json\n",
      "Successfully deleted: raw_data/to_processed/cricket_data_raw_2025-02-26_10-40-17.json\n",
      "Successfully copied: raw_data/to_processed/cricket_data_raw_2025-02-26_10-42-07.json to raw_data/processed/cricket_data_raw_2025-02-26_10-42-07.json\n",
      "Successfully deleted: raw_data/to_processed/cricket_data_raw_2025-02-26_10-42-07.json\n",
      "Successfully copied: raw_data/to_processed/cricket_data_raw_2025-02-26_10-43-01.json to raw_data/processed/cricket_data_raw_2025-02-26_10-43-01.json\n",
      "Successfully deleted: raw_data/to_processed/cricket_data_raw_2025-02-26_10-43-01.json\n",
      "Successfully copied: raw_data/to_processed/cricket_data_raw_2025-02-26_10-43-56.json to raw_data/processed/cricket_data_raw_2025-02-26_10-43-56.json\n",
      "Successfully deleted: raw_data/to_processed/cricket_data_raw_2025-02-26_10-43-56.json\n",
      "Successfully copied: raw_data/to_processed/cricket_data_raw_2025-02-26_10-44-51.json to raw_data/processed/cricket_data_raw_2025-02-26_10-44-51.json\n",
      "Successfully deleted: raw_data/to_processed/cricket_data_raw_2025-02-26_10-44-51.json\n",
      "Successfully copied: raw_data/to_processed/cricket_data_raw_2025-02-26_10-45-47.json to raw_data/processed/cricket_data_raw_2025-02-26_10-45-47.json\n",
      "Successfully deleted: raw_data/to_processed/cricket_data_raw_2025-02-26_10-45-47.json\n",
      "Successfully copied: raw_data/to_processed/cricket_data_raw_2025-02-26_10-46-42.json to raw_data/processed/cricket_data_raw_2025-02-26_10-46-42.json\n",
      "Successfully deleted: raw_data/to_processed/cricket_data_raw_2025-02-26_10-46-42.json\n",
      "Successfully copied: raw_data/to_processed/cricket_data_raw_2025-02-26_10-47-37.json to raw_data/processed/cricket_data_raw_2025-02-26_10-47-37.json\n",
      "Successfully deleted: raw_data/to_processed/cricket_data_raw_2025-02-26_10-47-37.json\n",
      "Successfully copied: raw_data/to_processed/cricket_data_raw_2025-02-26_10-48-31.json to raw_data/processed/cricket_data_raw_2025-02-26_10-48-31.json\n",
      "Successfully deleted: raw_data/to_processed/cricket_data_raw_2025-02-26_10-48-31.json\n",
      "Successfully copied: raw_data/to_processed/cricket_data_raw_2025-02-26_10-49-42.json to raw_data/processed/cricket_data_raw_2025-02-26_10-49-42.json\n",
      "Successfully deleted: raw_data/to_processed/cricket_data_raw_2025-02-26_10-49-42.json\n",
      "Successfully copied: raw_data/to_processed/cricket_data_raw_2025-02-26_10-50-09.json to raw_data/processed/cricket_data_raw_2025-02-26_10-50-09.json\n",
      "Successfully deleted: raw_data/to_processed/cricket_data_raw_2025-02-26_10-50-09.json\n",
      "Successfully copied: raw_data/to_processed/cricket_data_raw_2025-02-26_10-50-21.json to raw_data/processed/cricket_data_raw_2025-02-26_10-50-21.json\n",
      "Successfully deleted: raw_data/to_processed/cricket_data_raw_2025-02-26_10-50-21.json\n",
      "Successfully copied: raw_data/to_processed/cricket_data_raw_2025-02-26_10-51-17.json to raw_data/processed/cricket_data_raw_2025-02-26_10-51-17.json\n",
      "Successfully deleted: raw_data/to_processed/cricket_data_raw_2025-02-26_10-51-17.json\n",
      "Successfully copied: raw_data/to_processed/cricket_data_raw_2025-02-26_10-52-12.json to raw_data/processed/cricket_data_raw_2025-02-26_10-52-12.json\n",
      "Successfully deleted: raw_data/to_processed/cricket_data_raw_2025-02-26_10-52-12.json\n",
      "Successfully copied: raw_data/to_processed/cricket_data_raw_2025-02-26_10-53-08.json to raw_data/processed/cricket_data_raw_2025-02-26_10-53-08.json\n",
      "Successfully deleted: raw_data/to_processed/cricket_data_raw_2025-02-26_10-53-08.json\n",
      "Successfully copied: raw_data/to_processed/cricket_data_raw_2025-02-26_10-54-02.json to raw_data/processed/cricket_data_raw_2025-02-26_10-54-02.json\n",
      "Successfully deleted: raw_data/to_processed/cricket_data_raw_2025-02-26_10-54-02.json\n",
      "Successfully copied: raw_data/to_processed/cricket_data_raw_2025-02-26_10-54-56.json to raw_data/processed/cricket_data_raw_2025-02-26_10-54-56.json\n",
      "Successfully deleted: raw_data/to_processed/cricket_data_raw_2025-02-26_10-54-56.json\n",
      "Successfully copied: raw_data/to_processed/cricket_data_raw_2025-02-26_10-55-51.json to raw_data/processed/cricket_data_raw_2025-02-26_10-55-51.json\n",
      "Successfully deleted: raw_data/to_processed/cricket_data_raw_2025-02-26_10-55-51.json\n",
      "Successfully copied: raw_data/to_processed/cricket_data_raw_2025-02-26_10-56-48.json to raw_data/processed/cricket_data_raw_2025-02-26_10-56-48.json\n",
      "Successfully deleted: raw_data/to_processed/cricket_data_raw_2025-02-26_10-56-48.json\n",
      "Successfully copied: raw_data/to_processed/cricket_data_raw_2025-02-26_10-57-41.json to raw_data/processed/cricket_data_raw_2025-02-26_10-57-41.json\n",
      "Successfully deleted: raw_data/to_processed/cricket_data_raw_2025-02-26_10-57-41.json\n",
      "Successfully copied: raw_data/to_processed/cricket_data_raw_2025-02-26_10-58-36.json to raw_data/processed/cricket_data_raw_2025-02-26_10-58-36.json\n",
      "Successfully deleted: raw_data/to_processed/cricket_data_raw_2025-02-26_10-58-36.json\n",
      "Successfully copied: raw_data/to_processed/cricket_data_raw_2025-02-26_10-59-31.json to raw_data/processed/cricket_data_raw_2025-02-26_10-59-31.json\n",
      "Successfully deleted: raw_data/to_processed/cricket_data_raw_2025-02-26_10-59-31.json\n",
      "Successfully copied: raw_data/to_processed/cricket_data_raw_2025-02-26_11-02-16.json to raw_data/processed/cricket_data_raw_2025-02-26_11-02-16.json\n",
      "Successfully deleted: raw_data/to_processed/cricket_data_raw_2025-02-26_11-02-16.json\n",
      "Successfully copied: raw_data/to_processed/cricket_data_raw_2025-02-26_11-03-11.json to raw_data/processed/cricket_data_raw_2025-02-26_11-03-11.json\n",
      "Successfully deleted: raw_data/to_processed/cricket_data_raw_2025-02-26_11-03-11.json\n",
      "Successfully copied: raw_data/to_processed/cricket_data_raw_2025-02-26_11-05-02.json to raw_data/processed/cricket_data_raw_2025-02-26_11-05-02.json\n",
      "Successfully deleted: raw_data/to_processed/cricket_data_raw_2025-02-26_11-05-02.json\n",
      "Successfully copied: raw_data/to_processed/cricket_data_raw_2025-02-26_11-05-56.json to raw_data/processed/cricket_data_raw_2025-02-26_11-05-56.json\n",
      "Successfully deleted: raw_data/to_processed/cricket_data_raw_2025-02-26_11-05-56.json\n",
      "Successfully copied: raw_data/to_processed/cricket_data_raw_2025-02-26_11-08-43.json to raw_data/processed/cricket_data_raw_2025-02-26_11-08-43.json\n",
      "Successfully deleted: raw_data/to_processed/cricket_data_raw_2025-02-26_11-08-43.json\n",
      "Successfully copied: raw_data/to_processed/cricket_data_raw_2025-02-26_11-09-37.json to raw_data/processed/cricket_data_raw_2025-02-26_11-09-37.json\n",
      "Successfully deleted: raw_data/to_processed/cricket_data_raw_2025-02-26_11-09-37.json\n",
      "Successfully copied: raw_data/to_processed/cricket_data_raw_2025-02-26_11-10-31.json to raw_data/processed/cricket_data_raw_2025-02-26_11-10-31.json\n",
      "Successfully deleted: raw_data/to_processed/cricket_data_raw_2025-02-26_11-10-31.json\n",
      "Successfully copied: raw_data/to_processed/cricket_data_raw_2025-02-26_11-11-26.json to raw_data/processed/cricket_data_raw_2025-02-26_11-11-26.json\n",
      "Successfully deleted: raw_data/to_processed/cricket_data_raw_2025-02-26_11-11-26.json\n",
      "Successfully copied: raw_data/to_processed/cricket_data_raw_2025-02-26_11-12-22.json to raw_data/processed/cricket_data_raw_2025-02-26_11-12-22.json\n",
      "Successfully deleted: raw_data/to_processed/cricket_data_raw_2025-02-26_11-12-22.json\n",
      "Successfully copied: raw_data/to_processed/cricket_data_raw_2025-02-26_11-13-16.json to raw_data/processed/cricket_data_raw_2025-02-26_11-13-16.json\n",
      "Successfully deleted: raw_data/to_processed/cricket_data_raw_2025-02-26_11-13-16.json\n",
      "Successfully copied: raw_data/to_processed/cricket_data_raw_2025-02-26_11-14-12.json to raw_data/processed/cricket_data_raw_2025-02-26_11-14-12.json\n",
      "Successfully deleted: raw_data/to_processed/cricket_data_raw_2025-02-26_11-14-12.json\n",
      "Successfully copied: raw_data/to_processed/cricket_data_raw_2025-02-26_11-15-07.json to raw_data/processed/cricket_data_raw_2025-02-26_11-15-07.json\n",
      "Successfully deleted: raw_data/to_processed/cricket_data_raw_2025-02-26_11-15-07.json\n"
     ]
    }
   ],
   "source": [
    "\n",
    "import boto3\n",
    "s3_client = boto3.client('s3', \n",
    "                         aws_access_key_id=access_key, \n",
    "                         aws_secret_access_key=secret_key, \n",
    "                         region_name=aws_region)\n",
    "source_bucket = 'crickdatabucket'\n",
    "source_prefix = 'raw_data/to_processed/'\n",
    "destination_prefix = 'raw_data/processed/'\n",
    "response = s3_client.list_objects_v2(Bucket=source_bucket, Prefix=source_prefix)\n",
    "\n",
    "if 'Contents' in response:\n",
    "    for file in response['Contents']:\n",
    "        source_file_key = file['Key']\n",
    "        destination_file_key = source_file_key.replace(source_prefix, destination_prefix)\n",
    "        \n",
    "        try:\n",
    "            s3_client.copy_object(\n",
    "                Bucket=source_bucket,\n",
    "                CopySource={'Bucket': source_bucket, 'Key': source_file_key},\n",
    "                Key=destination_file_key\n",
    "            )\n",
    "            print(f\"Successfully copied: {source_file_key} to {destination_file_key}\")\n",
    "    \n",
    "            s3_client.delete_object(Bucket=source_bucket, Key=source_file_key)\n",
    "            print(f\"Successfully deleted: {source_file_key}\")\n",
    "            \n",
    "        except Exception as e:\n",
    "            print(f\"Error moving {source_file_key}: {e}\")\n",
    "else:\n",
    "    print(\"No files found in the source folder.\")"
   ]
  },
  {
   "cell_type": "code",
   "execution_count": 0,
   "metadata": {
    "application/vnd.databricks.v1+cell": {
     "cellMetadata": {
      "byteLimit": 2048000,
      "rowLimit": 10000
     },
     "inputWidgets": {},
     "nuid": "389dce21-56a0-4301-8eb9-45ff6721eb97",
     "showTitle": false,
     "tableResultSettingsMap": {},
     "title": ""
    }
   },
   "outputs": [],
   "source": []
  }
 ],
 "metadata": {
  "application/vnd.databricks.v1+notebook": {
   "computePreferences": null,
   "dashboards": [],
   "environmentMetadata": {
    "base_environment": "",
    "client": "1"
   },
   "language": "python",
   "notebookMetadata": {
    "pythonIndentUnit": 4
   },
   "notebookName": "Untitled Notebook 2025-02-25 19:08:41",
   "widgets": {}
  },
  "language_info": {
   "name": "python"
  }
 },
 "nbformat": 4,
 "nbformat_minor": 0
}
